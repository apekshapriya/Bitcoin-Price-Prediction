{
 "cells": [
  {
   "cell_type": "markdown",
   "id": "130a5b90",
   "metadata": {},
   "source": [
    "Objective: Predict Bitcoin Prices for future 30 days "
   ]
  },
  {
   "cell_type": "code",
   "execution_count": 1,
   "id": "28408d17",
   "metadata": {},
   "outputs": [],
   "source": [
    "import pandas as pd\n",
    "from sklearn.preprocessing import MinMaxScaler"
   ]
  },
  {
   "cell_type": "code",
   "execution_count": 2,
   "id": "0d8023d3",
   "metadata": {},
   "outputs": [],
   "source": [
    "data = pd.read_csv(\"bitstampUSD_1_min_data_2012_01_01_to_2018_11_11/bitstampUSD_1-min_data_2012-01-01_to_2018-11-11.csv\")"
   ]
  },
  {
   "cell_type": "code",
   "execution_count": 3,
   "id": "f1ff8529",
   "metadata": {},
   "outputs": [
    {
     "data": {
      "text/html": [
       "<div>\n",
       "<style scoped>\n",
       "    .dataframe tbody tr th:only-of-type {\n",
       "        vertical-align: middle;\n",
       "    }\n",
       "\n",
       "    .dataframe tbody tr th {\n",
       "        vertical-align: top;\n",
       "    }\n",
       "\n",
       "    .dataframe thead th {\n",
       "        text-align: right;\n",
       "    }\n",
       "</style>\n",
       "<table border=\"1\" class=\"dataframe\">\n",
       "  <thead>\n",
       "    <tr style=\"text-align: right;\">\n",
       "      <th></th>\n",
       "      <th>Timestamp</th>\n",
       "      <th>Open</th>\n",
       "      <th>High</th>\n",
       "      <th>Low</th>\n",
       "      <th>Close</th>\n",
       "      <th>Volume_(BTC)</th>\n",
       "      <th>Volume_(Currency)</th>\n",
       "      <th>Weighted_Price</th>\n",
       "    </tr>\n",
       "  </thead>\n",
       "  <tbody>\n",
       "    <tr>\n",
       "      <th>0</th>\n",
       "      <td>1325317920</td>\n",
       "      <td>4.39</td>\n",
       "      <td>4.39</td>\n",
       "      <td>4.39</td>\n",
       "      <td>4.39</td>\n",
       "      <td>0.455581</td>\n",
       "      <td>2.0</td>\n",
       "      <td>4.39</td>\n",
       "    </tr>\n",
       "    <tr>\n",
       "      <th>1</th>\n",
       "      <td>1325317980</td>\n",
       "      <td>NaN</td>\n",
       "      <td>NaN</td>\n",
       "      <td>NaN</td>\n",
       "      <td>NaN</td>\n",
       "      <td>NaN</td>\n",
       "      <td>NaN</td>\n",
       "      <td>NaN</td>\n",
       "    </tr>\n",
       "    <tr>\n",
       "      <th>2</th>\n",
       "      <td>1325318040</td>\n",
       "      <td>NaN</td>\n",
       "      <td>NaN</td>\n",
       "      <td>NaN</td>\n",
       "      <td>NaN</td>\n",
       "      <td>NaN</td>\n",
       "      <td>NaN</td>\n",
       "      <td>NaN</td>\n",
       "    </tr>\n",
       "    <tr>\n",
       "      <th>3</th>\n",
       "      <td>1325318100</td>\n",
       "      <td>NaN</td>\n",
       "      <td>NaN</td>\n",
       "      <td>NaN</td>\n",
       "      <td>NaN</td>\n",
       "      <td>NaN</td>\n",
       "      <td>NaN</td>\n",
       "      <td>NaN</td>\n",
       "    </tr>\n",
       "    <tr>\n",
       "      <th>4</th>\n",
       "      <td>1325318160</td>\n",
       "      <td>NaN</td>\n",
       "      <td>NaN</td>\n",
       "      <td>NaN</td>\n",
       "      <td>NaN</td>\n",
       "      <td>NaN</td>\n",
       "      <td>NaN</td>\n",
       "      <td>NaN</td>\n",
       "    </tr>\n",
       "  </tbody>\n",
       "</table>\n",
       "</div>"
      ],
      "text/plain": [
       "    Timestamp  Open  High   Low  Close  Volume_(BTC)  Volume_(Currency)  \\\n",
       "0  1325317920  4.39  4.39  4.39   4.39      0.455581                2.0   \n",
       "1  1325317980   NaN   NaN   NaN    NaN           NaN                NaN   \n",
       "2  1325318040   NaN   NaN   NaN    NaN           NaN                NaN   \n",
       "3  1325318100   NaN   NaN   NaN    NaN           NaN                NaN   \n",
       "4  1325318160   NaN   NaN   NaN    NaN           NaN                NaN   \n",
       "\n",
       "   Weighted_Price  \n",
       "0            4.39  \n",
       "1             NaN  \n",
       "2             NaN  \n",
       "3             NaN  \n",
       "4             NaN  "
      ]
     },
     "execution_count": 3,
     "metadata": {},
     "output_type": "execute_result"
    }
   ],
   "source": [
    "data.head()"
   ]
  },
  {
   "cell_type": "code",
   "execution_count": 4,
   "id": "270a40a2",
   "metadata": {},
   "outputs": [
    {
     "data": {
      "text/html": [
       "<div>\n",
       "<style scoped>\n",
       "    .dataframe tbody tr th:only-of-type {\n",
       "        vertical-align: middle;\n",
       "    }\n",
       "\n",
       "    .dataframe tbody tr th {\n",
       "        vertical-align: top;\n",
       "    }\n",
       "\n",
       "    .dataframe thead th {\n",
       "        text-align: right;\n",
       "    }\n",
       "</style>\n",
       "<table border=\"1\" class=\"dataframe\">\n",
       "  <thead>\n",
       "    <tr style=\"text-align: right;\">\n",
       "      <th></th>\n",
       "      <th>Timestamp</th>\n",
       "      <th>Open</th>\n",
       "      <th>High</th>\n",
       "      <th>Low</th>\n",
       "      <th>Close</th>\n",
       "      <th>Volume_(BTC)</th>\n",
       "      <th>Volume_(Currency)</th>\n",
       "      <th>Weighted_Price</th>\n",
       "    </tr>\n",
       "  </thead>\n",
       "  <tbody>\n",
       "    <tr>\n",
       "      <th>3603131</th>\n",
       "      <td>1541894100</td>\n",
       "      <td>6348.54</td>\n",
       "      <td>6348.54</td>\n",
       "      <td>6348.54</td>\n",
       "      <td>6348.54</td>\n",
       "      <td>0.007997</td>\n",
       "      <td>50.769274</td>\n",
       "      <td>6348.540000</td>\n",
       "    </tr>\n",
       "    <tr>\n",
       "      <th>3603132</th>\n",
       "      <td>1541894160</td>\n",
       "      <td>6348.54</td>\n",
       "      <td>6349.01</td>\n",
       "      <td>6348.54</td>\n",
       "      <td>6349.01</td>\n",
       "      <td>0.011729</td>\n",
       "      <td>74.466671</td>\n",
       "      <td>6348.936090</td>\n",
       "    </tr>\n",
       "    <tr>\n",
       "      <th>3603133</th>\n",
       "      <td>1541894220</td>\n",
       "      <td>6349.01</td>\n",
       "      <td>6349.01</td>\n",
       "      <td>6349.01</td>\n",
       "      <td>6349.01</td>\n",
       "      <td>0.068436</td>\n",
       "      <td>434.503642</td>\n",
       "      <td>6349.010000</td>\n",
       "    </tr>\n",
       "    <tr>\n",
       "      <th>3603134</th>\n",
       "      <td>1541894280</td>\n",
       "      <td>NaN</td>\n",
       "      <td>NaN</td>\n",
       "      <td>NaN</td>\n",
       "      <td>NaN</td>\n",
       "      <td>NaN</td>\n",
       "      <td>NaN</td>\n",
       "      <td>NaN</td>\n",
       "    </tr>\n",
       "    <tr>\n",
       "      <th>3603135</th>\n",
       "      <td>1541894340</td>\n",
       "      <td>6349.17</td>\n",
       "      <td>6349.32</td>\n",
       "      <td>6349.17</td>\n",
       "      <td>6349.32</td>\n",
       "      <td>0.038261</td>\n",
       "      <td>242.927410</td>\n",
       "      <td>6349.214148</td>\n",
       "    </tr>\n",
       "  </tbody>\n",
       "</table>\n",
       "</div>"
      ],
      "text/plain": [
       "          Timestamp     Open     High      Low    Close  Volume_(BTC)  \\\n",
       "3603131  1541894100  6348.54  6348.54  6348.54  6348.54      0.007997   \n",
       "3603132  1541894160  6348.54  6349.01  6348.54  6349.01      0.011729   \n",
       "3603133  1541894220  6349.01  6349.01  6349.01  6349.01      0.068436   \n",
       "3603134  1541894280      NaN      NaN      NaN      NaN           NaN   \n",
       "3603135  1541894340  6349.17  6349.32  6349.17  6349.32      0.038261   \n",
       "\n",
       "         Volume_(Currency)  Weighted_Price  \n",
       "3603131          50.769274     6348.540000  \n",
       "3603132          74.466671     6348.936090  \n",
       "3603133         434.503642     6349.010000  \n",
       "3603134                NaN             NaN  \n",
       "3603135         242.927410     6349.214148  "
      ]
     },
     "execution_count": 4,
     "metadata": {},
     "output_type": "execute_result"
    }
   ],
   "source": [
    "data.tail()"
   ]
  },
  {
   "cell_type": "markdown",
   "id": "6d94c7ad",
   "metadata": {},
   "source": [
    "Preprocessing of data\n",
    "1. Convert Timestamp into Date column\n",
    "2. Drop nans\n",
    "3. Grouping and averaging the data by Date column\n"
   ]
  },
  {
   "cell_type": "code",
   "execution_count": 5,
   "id": "a6664fb5",
   "metadata": {},
   "outputs": [
    {
     "data": {
      "text/plain": [
       "array([datetime.date(2011, 12, 31), datetime.date(2012, 1, 1),\n",
       "       datetime.date(2012, 1, 2), ..., datetime.date(2018, 11, 8),\n",
       "       datetime.date(2018, 11, 9), datetime.date(2018, 11, 10)],\n",
       "      dtype=object)"
      ]
     },
     "execution_count": 5,
     "metadata": {},
     "output_type": "execute_result"
    }
   ],
   "source": [
    "data['Date'] =  pd.to_datetime(data['Timestamp'], unit='s').dt.date\n",
    "data.drop('Timestamp', inplace=True, axis=1)\n",
    "data.Date.unique()"
   ]
  },
  {
   "cell_type": "code",
   "execution_count": 6,
   "id": "fa33f0a8",
   "metadata": {},
   "outputs": [
    {
     "data": {
      "text/html": [
       "<div>\n",
       "<style scoped>\n",
       "    .dataframe tbody tr th:only-of-type {\n",
       "        vertical-align: middle;\n",
       "    }\n",
       "\n",
       "    .dataframe tbody tr th {\n",
       "        vertical-align: top;\n",
       "    }\n",
       "\n",
       "    .dataframe thead th {\n",
       "        text-align: right;\n",
       "    }\n",
       "</style>\n",
       "<table border=\"1\" class=\"dataframe\">\n",
       "  <thead>\n",
       "    <tr style=\"text-align: right;\">\n",
       "      <th></th>\n",
       "      <th>Open</th>\n",
       "      <th>High</th>\n",
       "      <th>Low</th>\n",
       "      <th>Close</th>\n",
       "      <th>Volume_(BTC)</th>\n",
       "      <th>Volume_(Currency)</th>\n",
       "      <th>Weighted_Price</th>\n",
       "    </tr>\n",
       "  </thead>\n",
       "  <tbody>\n",
       "    <tr>\n",
       "      <th>count</th>\n",
       "      <td>2.388829e+06</td>\n",
       "      <td>2.388829e+06</td>\n",
       "      <td>2.388829e+06</td>\n",
       "      <td>2.388829e+06</td>\n",
       "      <td>2.388829e+06</td>\n",
       "      <td>2.388829e+06</td>\n",
       "      <td>2.388829e+06</td>\n",
       "    </tr>\n",
       "    <tr>\n",
       "      <th>mean</th>\n",
       "      <td>2.571487e+03</td>\n",
       "      <td>2.573625e+03</td>\n",
       "      <td>2.569058e+03</td>\n",
       "      <td>2.571462e+03</td>\n",
       "      <td>1.092451e+01</td>\n",
       "      <td>2.369349e+04</td>\n",
       "      <td>2.571320e+03</td>\n",
       "    </tr>\n",
       "    <tr>\n",
       "      <th>std</th>\n",
       "      <td>3.629093e+03</td>\n",
       "      <td>3.632869e+03</td>\n",
       "      <td>3.624712e+03</td>\n",
       "      <td>3.629059e+03</td>\n",
       "      <td>3.560609e+01</td>\n",
       "      <td>8.921983e+04</td>\n",
       "      <td>3.628797e+03</td>\n",
       "    </tr>\n",
       "    <tr>\n",
       "      <th>min</th>\n",
       "      <td>3.800000e+00</td>\n",
       "      <td>3.800000e+00</td>\n",
       "      <td>1.500000e+00</td>\n",
       "      <td>1.500000e+00</td>\n",
       "      <td>0.000000e+00</td>\n",
       "      <td>0.000000e+00</td>\n",
       "      <td>3.800000e+00</td>\n",
       "    </tr>\n",
       "    <tr>\n",
       "      <th>25%</th>\n",
       "      <td>3.235200e+02</td>\n",
       "      <td>3.238000e+02</td>\n",
       "      <td>3.232900e+02</td>\n",
       "      <td>3.235100e+02</td>\n",
       "      <td>4.509416e-01</td>\n",
       "      <td>2.267963e+02</td>\n",
       "      <td>3.235000e+02</td>\n",
       "    </tr>\n",
       "    <tr>\n",
       "      <th>50%</th>\n",
       "      <td>6.227900e+02</td>\n",
       "      <td>6.230300e+02</td>\n",
       "      <td>6.223300e+02</td>\n",
       "      <td>6.228200e+02</td>\n",
       "      <td>2.092143e+00</td>\n",
       "      <td>1.595989e+03</td>\n",
       "      <td>6.227381e+02</td>\n",
       "    </tr>\n",
       "    <tr>\n",
       "      <th>75%</th>\n",
       "      <td>4.200930e+03</td>\n",
       "      <td>4.204930e+03</td>\n",
       "      <td>4.198480e+03</td>\n",
       "      <td>4.200880e+03</td>\n",
       "      <td>8.409572e+00</td>\n",
       "      <td>1.195215e+04</td>\n",
       "      <td>4.201000e+03</td>\n",
       "    </tr>\n",
       "    <tr>\n",
       "      <th>max</th>\n",
       "      <td>1.966576e+04</td>\n",
       "      <td>1.966600e+04</td>\n",
       "      <td>1.964996e+04</td>\n",
       "      <td>1.966575e+04</td>\n",
       "      <td>5.853852e+03</td>\n",
       "      <td>5.483271e+06</td>\n",
       "      <td>1.966330e+04</td>\n",
       "    </tr>\n",
       "  </tbody>\n",
       "</table>\n",
       "</div>"
      ],
      "text/plain": [
       "               Open          High           Low         Close  Volume_(BTC)  \\\n",
       "count  2.388829e+06  2.388829e+06  2.388829e+06  2.388829e+06  2.388829e+06   \n",
       "mean   2.571487e+03  2.573625e+03  2.569058e+03  2.571462e+03  1.092451e+01   \n",
       "std    3.629093e+03  3.632869e+03  3.624712e+03  3.629059e+03  3.560609e+01   \n",
       "min    3.800000e+00  3.800000e+00  1.500000e+00  1.500000e+00  0.000000e+00   \n",
       "25%    3.235200e+02  3.238000e+02  3.232900e+02  3.235100e+02  4.509416e-01   \n",
       "50%    6.227900e+02  6.230300e+02  6.223300e+02  6.228200e+02  2.092143e+00   \n",
       "75%    4.200930e+03  4.204930e+03  4.198480e+03  4.200880e+03  8.409572e+00   \n",
       "max    1.966576e+04  1.966600e+04  1.964996e+04  1.966575e+04  5.853852e+03   \n",
       "\n",
       "       Volume_(Currency)  Weighted_Price  \n",
       "count       2.388829e+06    2.388829e+06  \n",
       "mean        2.369349e+04    2.571320e+03  \n",
       "std         8.921983e+04    3.628797e+03  \n",
       "min         0.000000e+00    3.800000e+00  \n",
       "25%         2.267963e+02    3.235000e+02  \n",
       "50%         1.595989e+03    6.227381e+02  \n",
       "75%         1.195215e+04    4.201000e+03  \n",
       "max         5.483271e+06    1.966330e+04  "
      ]
     },
     "execution_count": 6,
     "metadata": {},
     "output_type": "execute_result"
    }
   ],
   "source": [
    "data.describe()"
   ]
  },
  {
   "cell_type": "code",
   "execution_count": 7,
   "id": "56610816",
   "metadata": {},
   "outputs": [
    {
     "data": {
      "text/plain": [
       "Open                 0.337014\n",
       "High                 0.337014\n",
       "Low                  0.337014\n",
       "Close                0.337014\n",
       "Volume_(BTC)         0.337014\n",
       "Volume_(Currency)    0.337014\n",
       "Weighted_Price       0.337014\n",
       "Date                 0.000000\n",
       "dtype: float64"
      ]
     },
     "execution_count": 7,
     "metadata": {},
     "output_type": "execute_result"
    }
   ],
   "source": [
    "data.isnull().sum()/len(data)"
   ]
  },
  {
   "cell_type": "code",
   "execution_count": 8,
   "id": "8826dd20",
   "metadata": {},
   "outputs": [
    {
     "data": {
      "text/plain": [
       "Open                 0.0\n",
       "High                 0.0\n",
       "Low                  0.0\n",
       "Close                0.0\n",
       "Volume_(BTC)         0.0\n",
       "Volume_(Currency)    0.0\n",
       "Weighted_Price       0.0\n",
       "Date                 0.0\n",
       "dtype: float64"
      ]
     },
     "execution_count": 8,
     "metadata": {},
     "output_type": "execute_result"
    }
   ],
   "source": [
    "data = data.dropna()\n",
    "data.isnull().sum()/len(data)"
   ]
  },
  {
   "cell_type": "code",
   "execution_count": 9,
   "id": "1a322b4b",
   "metadata": {},
   "outputs": [
    {
     "data": {
      "text/html": [
       "<div>\n",
       "<style scoped>\n",
       "    .dataframe tbody tr th:only-of-type {\n",
       "        vertical-align: middle;\n",
       "    }\n",
       "\n",
       "    .dataframe tbody tr th {\n",
       "        vertical-align: top;\n",
       "    }\n",
       "\n",
       "    .dataframe thead th {\n",
       "        text-align: right;\n",
       "    }\n",
       "</style>\n",
       "<table border=\"1\" class=\"dataframe\">\n",
       "  <thead>\n",
       "    <tr style=\"text-align: right;\">\n",
       "      <th></th>\n",
       "      <th>Date</th>\n",
       "      <th>Open</th>\n",
       "      <th>High</th>\n",
       "      <th>Low</th>\n",
       "      <th>Close</th>\n",
       "      <th>Volume_(BTC)</th>\n",
       "      <th>Volume_(Currency)</th>\n",
       "      <th>Weighted_Price</th>\n",
       "    </tr>\n",
       "  </thead>\n",
       "  <tbody>\n",
       "    <tr>\n",
       "      <th>0</th>\n",
       "      <td>2011-12-31</td>\n",
       "      <td>4.465000</td>\n",
       "      <td>4.482500</td>\n",
       "      <td>4.465000</td>\n",
       "      <td>4.482500</td>\n",
       "      <td>23.829470</td>\n",
       "      <td>106.330084</td>\n",
       "      <td>4.471603</td>\n",
       "    </tr>\n",
       "    <tr>\n",
       "      <th>1</th>\n",
       "      <td>2012-01-01</td>\n",
       "      <td>4.806667</td>\n",
       "      <td>4.806667</td>\n",
       "      <td>4.806667</td>\n",
       "      <td>4.806667</td>\n",
       "      <td>7.200667</td>\n",
       "      <td>35.259720</td>\n",
       "      <td>4.806667</td>\n",
       "    </tr>\n",
       "    <tr>\n",
       "      <th>2</th>\n",
       "      <td>2012-01-02</td>\n",
       "      <td>5.000000</td>\n",
       "      <td>5.000000</td>\n",
       "      <td>5.000000</td>\n",
       "      <td>5.000000</td>\n",
       "      <td>19.048000</td>\n",
       "      <td>95.240000</td>\n",
       "      <td>5.000000</td>\n",
       "    </tr>\n",
       "    <tr>\n",
       "      <th>3</th>\n",
       "      <td>2012-01-03</td>\n",
       "      <td>5.252500</td>\n",
       "      <td>5.252500</td>\n",
       "      <td>5.252500</td>\n",
       "      <td>5.252500</td>\n",
       "      <td>11.004660</td>\n",
       "      <td>58.100651</td>\n",
       "      <td>5.252500</td>\n",
       "    </tr>\n",
       "    <tr>\n",
       "      <th>4</th>\n",
       "      <td>2012-01-04</td>\n",
       "      <td>5.200000</td>\n",
       "      <td>5.223333</td>\n",
       "      <td>5.200000</td>\n",
       "      <td>5.223333</td>\n",
       "      <td>11.914807</td>\n",
       "      <td>63.119577</td>\n",
       "      <td>5.208159</td>\n",
       "    </tr>\n",
       "  </tbody>\n",
       "</table>\n",
       "</div>"
      ],
      "text/plain": [
       "         Date      Open      High       Low     Close  Volume_(BTC)  \\\n",
       "0  2011-12-31  4.465000  4.482500  4.465000  4.482500     23.829470   \n",
       "1  2012-01-01  4.806667  4.806667  4.806667  4.806667      7.200667   \n",
       "2  2012-01-02  5.000000  5.000000  5.000000  5.000000     19.048000   \n",
       "3  2012-01-03  5.252500  5.252500  5.252500  5.252500     11.004660   \n",
       "4  2012-01-04  5.200000  5.223333  5.200000  5.223333     11.914807   \n",
       "\n",
       "   Volume_(Currency)  Weighted_Price  \n",
       "0         106.330084        4.471603  \n",
       "1          35.259720        4.806667  \n",
       "2          95.240000        5.000000  \n",
       "3          58.100651        5.252500  \n",
       "4          63.119577        5.208159  "
      ]
     },
     "execution_count": 9,
     "metadata": {},
     "output_type": "execute_result"
    }
   ],
   "source": [
    "data = data.groupby(['Date']).mean().reset_index()\n",
    "data.head()"
   ]
  },
  {
   "cell_type": "markdown",
   "id": "f0c4cfb0",
   "metadata": {},
   "source": [
    "Visualization of data"
   ]
  },
  {
   "cell_type": "code",
   "execution_count": 10,
   "id": "cdd29be2",
   "metadata": {},
   "outputs": [
    {
     "data": {
      "text/html": [
       "<div>\n",
       "<style scoped>\n",
       "    .dataframe tbody tr th:only-of-type {\n",
       "        vertical-align: middle;\n",
       "    }\n",
       "\n",
       "    .dataframe tbody tr th {\n",
       "        vertical-align: top;\n",
       "    }\n",
       "\n",
       "    .dataframe thead th {\n",
       "        text-align: right;\n",
       "    }\n",
       "</style>\n",
       "<table border=\"1\" class=\"dataframe\">\n",
       "  <thead>\n",
       "    <tr style=\"text-align: right;\">\n",
       "      <th></th>\n",
       "      <th>Open</th>\n",
       "      <th>High</th>\n",
       "      <th>Low</th>\n",
       "      <th>Close</th>\n",
       "      <th>Volume_(BTC)</th>\n",
       "      <th>Volume_(Currency)</th>\n",
       "      <th>Weighted_Price</th>\n",
       "    </tr>\n",
       "  </thead>\n",
       "  <tbody>\n",
       "    <tr>\n",
       "      <th>Open</th>\n",
       "      <td>1.000000</td>\n",
       "      <td>1.000000</td>\n",
       "      <td>1.000000</td>\n",
       "      <td>1.000000</td>\n",
       "      <td>-0.163221</td>\n",
       "      <td>0.828254</td>\n",
       "      <td>1.000000</td>\n",
       "    </tr>\n",
       "    <tr>\n",
       "      <th>High</th>\n",
       "      <td>1.000000</td>\n",
       "      <td>1.000000</td>\n",
       "      <td>0.999999</td>\n",
       "      <td>1.000000</td>\n",
       "      <td>-0.163029</td>\n",
       "      <td>0.828547</td>\n",
       "      <td>1.000000</td>\n",
       "    </tr>\n",
       "    <tr>\n",
       "      <th>Low</th>\n",
       "      <td>1.000000</td>\n",
       "      <td>0.999999</td>\n",
       "      <td>1.000000</td>\n",
       "      <td>1.000000</td>\n",
       "      <td>-0.163436</td>\n",
       "      <td>0.827926</td>\n",
       "      <td>1.000000</td>\n",
       "    </tr>\n",
       "    <tr>\n",
       "      <th>Close</th>\n",
       "      <td>1.000000</td>\n",
       "      <td>1.000000</td>\n",
       "      <td>1.000000</td>\n",
       "      <td>1.000000</td>\n",
       "      <td>-0.163225</td>\n",
       "      <td>0.828247</td>\n",
       "      <td>1.000000</td>\n",
       "    </tr>\n",
       "    <tr>\n",
       "      <th>Volume_(BTC)</th>\n",
       "      <td>-0.163221</td>\n",
       "      <td>-0.163029</td>\n",
       "      <td>-0.163436</td>\n",
       "      <td>-0.163225</td>\n",
       "      <td>1.000000</td>\n",
       "      <td>0.072644</td>\n",
       "      <td>-0.163235</td>\n",
       "    </tr>\n",
       "    <tr>\n",
       "      <th>Volume_(Currency)</th>\n",
       "      <td>0.828254</td>\n",
       "      <td>0.828547</td>\n",
       "      <td>0.827926</td>\n",
       "      <td>0.828247</td>\n",
       "      <td>0.072644</td>\n",
       "      <td>1.000000</td>\n",
       "      <td>0.828232</td>\n",
       "    </tr>\n",
       "    <tr>\n",
       "      <th>Weighted_Price</th>\n",
       "      <td>1.000000</td>\n",
       "      <td>1.000000</td>\n",
       "      <td>1.000000</td>\n",
       "      <td>1.000000</td>\n",
       "      <td>-0.163235</td>\n",
       "      <td>0.828232</td>\n",
       "      <td>1.000000</td>\n",
       "    </tr>\n",
       "  </tbody>\n",
       "</table>\n",
       "</div>"
      ],
      "text/plain": [
       "                       Open      High       Low     Close  Volume_(BTC)  \\\n",
       "Open               1.000000  1.000000  1.000000  1.000000     -0.163221   \n",
       "High               1.000000  1.000000  0.999999  1.000000     -0.163029   \n",
       "Low                1.000000  0.999999  1.000000  1.000000     -0.163436   \n",
       "Close              1.000000  1.000000  1.000000  1.000000     -0.163225   \n",
       "Volume_(BTC)      -0.163221 -0.163029 -0.163436 -0.163225      1.000000   \n",
       "Volume_(Currency)  0.828254  0.828547  0.827926  0.828247      0.072644   \n",
       "Weighted_Price     1.000000  1.000000  1.000000  1.000000     -0.163235   \n",
       "\n",
       "                   Volume_(Currency)  Weighted_Price  \n",
       "Open                        0.828254        1.000000  \n",
       "High                        0.828547        1.000000  \n",
       "Low                         0.827926        1.000000  \n",
       "Close                       0.828247        1.000000  \n",
       "Volume_(BTC)                0.072644       -0.163235  \n",
       "Volume_(Currency)           1.000000        0.828232  \n",
       "Weighted_Price              0.828232        1.000000  "
      ]
     },
     "execution_count": 10,
     "metadata": {},
     "output_type": "execute_result"
    }
   ],
   "source": [
    "data.corr()"
   ]
  },
  {
   "cell_type": "code",
   "execution_count": 11,
   "id": "5878e3ae",
   "metadata": {},
   "outputs": [
    {
     "data": {
      "text/html": [
       "<style type=\"text/css\">\n",
       "#T_9a6a4_row0_col0, #T_9a6a4_row0_col1, #T_9a6a4_row0_col2, #T_9a6a4_row0_col3, #T_9a6a4_row0_col6, #T_9a6a4_row1_col0, #T_9a6a4_row1_col1, #T_9a6a4_row1_col2, #T_9a6a4_row1_col3, #T_9a6a4_row1_col6, #T_9a6a4_row2_col0, #T_9a6a4_row2_col1, #T_9a6a4_row2_col2, #T_9a6a4_row2_col3, #T_9a6a4_row2_col6, #T_9a6a4_row3_col0, #T_9a6a4_row3_col1, #T_9a6a4_row3_col2, #T_9a6a4_row3_col3, #T_9a6a4_row3_col6, #T_9a6a4_row4_col4, #T_9a6a4_row5_col5, #T_9a6a4_row6_col0, #T_9a6a4_row6_col1, #T_9a6a4_row6_col2, #T_9a6a4_row6_col3, #T_9a6a4_row6_col6 {\n",
       "  background-color: #b40426;\n",
       "  color: #f1f1f1;\n",
       "}\n",
       "#T_9a6a4_row0_col4, #T_9a6a4_row1_col4, #T_9a6a4_row2_col4, #T_9a6a4_row3_col4, #T_9a6a4_row4_col0, #T_9a6a4_row4_col1, #T_9a6a4_row4_col2, #T_9a6a4_row4_col3, #T_9a6a4_row4_col5, #T_9a6a4_row4_col6, #T_9a6a4_row6_col4 {\n",
       "  background-color: #3b4cc0;\n",
       "  color: #f1f1f1;\n",
       "}\n",
       "#T_9a6a4_row0_col5, #T_9a6a4_row1_col5, #T_9a6a4_row2_col5, #T_9a6a4_row3_col5, #T_9a6a4_row6_col5 {\n",
       "  background-color: #eb7d62;\n",
       "  color: #f1f1f1;\n",
       "}\n",
       "#T_9a6a4_row5_col0, #T_9a6a4_row5_col1, #T_9a6a4_row5_col2, #T_9a6a4_row5_col3, #T_9a6a4_row5_col6 {\n",
       "  background-color: #e36b54;\n",
       "  color: #f1f1f1;\n",
       "}\n",
       "#T_9a6a4_row5_col4 {\n",
       "  background-color: #7b9ff9;\n",
       "  color: #f1f1f1;\n",
       "}\n",
       "</style>\n",
       "<table id=\"T_9a6a4_\">\n",
       "  <thead>\n",
       "    <tr>\n",
       "      <th class=\"blank level0\" >&nbsp;</th>\n",
       "      <th class=\"col_heading level0 col0\" >Open</th>\n",
       "      <th class=\"col_heading level0 col1\" >High</th>\n",
       "      <th class=\"col_heading level0 col2\" >Low</th>\n",
       "      <th class=\"col_heading level0 col3\" >Close</th>\n",
       "      <th class=\"col_heading level0 col4\" >Volume_(BTC)</th>\n",
       "      <th class=\"col_heading level0 col5\" >Volume_(Currency)</th>\n",
       "      <th class=\"col_heading level0 col6\" >Weighted_Price</th>\n",
       "    </tr>\n",
       "  </thead>\n",
       "  <tbody>\n",
       "    <tr>\n",
       "      <th id=\"T_9a6a4_level0_row0\" class=\"row_heading level0 row0\" >Open</th>\n",
       "      <td id=\"T_9a6a4_row0_col0\" class=\"data row0 col0\" >1.000000</td>\n",
       "      <td id=\"T_9a6a4_row0_col1\" class=\"data row0 col1\" >1.000000</td>\n",
       "      <td id=\"T_9a6a4_row0_col2\" class=\"data row0 col2\" >1.000000</td>\n",
       "      <td id=\"T_9a6a4_row0_col3\" class=\"data row0 col3\" >1.000000</td>\n",
       "      <td id=\"T_9a6a4_row0_col4\" class=\"data row0 col4\" >-0.163221</td>\n",
       "      <td id=\"T_9a6a4_row0_col5\" class=\"data row0 col5\" >0.828254</td>\n",
       "      <td id=\"T_9a6a4_row0_col6\" class=\"data row0 col6\" >1.000000</td>\n",
       "    </tr>\n",
       "    <tr>\n",
       "      <th id=\"T_9a6a4_level0_row1\" class=\"row_heading level0 row1\" >High</th>\n",
       "      <td id=\"T_9a6a4_row1_col0\" class=\"data row1 col0\" >1.000000</td>\n",
       "      <td id=\"T_9a6a4_row1_col1\" class=\"data row1 col1\" >1.000000</td>\n",
       "      <td id=\"T_9a6a4_row1_col2\" class=\"data row1 col2\" >0.999999</td>\n",
       "      <td id=\"T_9a6a4_row1_col3\" class=\"data row1 col3\" >1.000000</td>\n",
       "      <td id=\"T_9a6a4_row1_col4\" class=\"data row1 col4\" >-0.163029</td>\n",
       "      <td id=\"T_9a6a4_row1_col5\" class=\"data row1 col5\" >0.828547</td>\n",
       "      <td id=\"T_9a6a4_row1_col6\" class=\"data row1 col6\" >1.000000</td>\n",
       "    </tr>\n",
       "    <tr>\n",
       "      <th id=\"T_9a6a4_level0_row2\" class=\"row_heading level0 row2\" >Low</th>\n",
       "      <td id=\"T_9a6a4_row2_col0\" class=\"data row2 col0\" >1.000000</td>\n",
       "      <td id=\"T_9a6a4_row2_col1\" class=\"data row2 col1\" >0.999999</td>\n",
       "      <td id=\"T_9a6a4_row2_col2\" class=\"data row2 col2\" >1.000000</td>\n",
       "      <td id=\"T_9a6a4_row2_col3\" class=\"data row2 col3\" >1.000000</td>\n",
       "      <td id=\"T_9a6a4_row2_col4\" class=\"data row2 col4\" >-0.163436</td>\n",
       "      <td id=\"T_9a6a4_row2_col5\" class=\"data row2 col5\" >0.827926</td>\n",
       "      <td id=\"T_9a6a4_row2_col6\" class=\"data row2 col6\" >1.000000</td>\n",
       "    </tr>\n",
       "    <tr>\n",
       "      <th id=\"T_9a6a4_level0_row3\" class=\"row_heading level0 row3\" >Close</th>\n",
       "      <td id=\"T_9a6a4_row3_col0\" class=\"data row3 col0\" >1.000000</td>\n",
       "      <td id=\"T_9a6a4_row3_col1\" class=\"data row3 col1\" >1.000000</td>\n",
       "      <td id=\"T_9a6a4_row3_col2\" class=\"data row3 col2\" >1.000000</td>\n",
       "      <td id=\"T_9a6a4_row3_col3\" class=\"data row3 col3\" >1.000000</td>\n",
       "      <td id=\"T_9a6a4_row3_col4\" class=\"data row3 col4\" >-0.163225</td>\n",
       "      <td id=\"T_9a6a4_row3_col5\" class=\"data row3 col5\" >0.828247</td>\n",
       "      <td id=\"T_9a6a4_row3_col6\" class=\"data row3 col6\" >1.000000</td>\n",
       "    </tr>\n",
       "    <tr>\n",
       "      <th id=\"T_9a6a4_level0_row4\" class=\"row_heading level0 row4\" >Volume_(BTC)</th>\n",
       "      <td id=\"T_9a6a4_row4_col0\" class=\"data row4 col0\" >-0.163221</td>\n",
       "      <td id=\"T_9a6a4_row4_col1\" class=\"data row4 col1\" >-0.163029</td>\n",
       "      <td id=\"T_9a6a4_row4_col2\" class=\"data row4 col2\" >-0.163436</td>\n",
       "      <td id=\"T_9a6a4_row4_col3\" class=\"data row4 col3\" >-0.163225</td>\n",
       "      <td id=\"T_9a6a4_row4_col4\" class=\"data row4 col4\" >1.000000</td>\n",
       "      <td id=\"T_9a6a4_row4_col5\" class=\"data row4 col5\" >0.072644</td>\n",
       "      <td id=\"T_9a6a4_row4_col6\" class=\"data row4 col6\" >-0.163235</td>\n",
       "    </tr>\n",
       "    <tr>\n",
       "      <th id=\"T_9a6a4_level0_row5\" class=\"row_heading level0 row5\" >Volume_(Currency)</th>\n",
       "      <td id=\"T_9a6a4_row5_col0\" class=\"data row5 col0\" >0.828254</td>\n",
       "      <td id=\"T_9a6a4_row5_col1\" class=\"data row5 col1\" >0.828547</td>\n",
       "      <td id=\"T_9a6a4_row5_col2\" class=\"data row5 col2\" >0.827926</td>\n",
       "      <td id=\"T_9a6a4_row5_col3\" class=\"data row5 col3\" >0.828247</td>\n",
       "      <td id=\"T_9a6a4_row5_col4\" class=\"data row5 col4\" >0.072644</td>\n",
       "      <td id=\"T_9a6a4_row5_col5\" class=\"data row5 col5\" >1.000000</td>\n",
       "      <td id=\"T_9a6a4_row5_col6\" class=\"data row5 col6\" >0.828232</td>\n",
       "    </tr>\n",
       "    <tr>\n",
       "      <th id=\"T_9a6a4_level0_row6\" class=\"row_heading level0 row6\" >Weighted_Price</th>\n",
       "      <td id=\"T_9a6a4_row6_col0\" class=\"data row6 col0\" >1.000000</td>\n",
       "      <td id=\"T_9a6a4_row6_col1\" class=\"data row6 col1\" >1.000000</td>\n",
       "      <td id=\"T_9a6a4_row6_col2\" class=\"data row6 col2\" >1.000000</td>\n",
       "      <td id=\"T_9a6a4_row6_col3\" class=\"data row6 col3\" >1.000000</td>\n",
       "      <td id=\"T_9a6a4_row6_col4\" class=\"data row6 col4\" >-0.163235</td>\n",
       "      <td id=\"T_9a6a4_row6_col5\" class=\"data row6 col5\" >0.828232</td>\n",
       "      <td id=\"T_9a6a4_row6_col6\" class=\"data row6 col6\" >1.000000</td>\n",
       "    </tr>\n",
       "  </tbody>\n",
       "</table>\n"
      ],
      "text/plain": [
       "<pandas.io.formats.style.Styler at 0x20b6659e730>"
      ]
     },
     "execution_count": 11,
     "metadata": {},
     "output_type": "execute_result"
    }
   ],
   "source": [
    "data.corr().style.background_gradient(cmap='coolwarm')"
   ]
  },
  {
   "cell_type": "markdown",
   "id": "6db3635a",
   "metadata": {},
   "source": [
    "\n",
    " Corr Matrix shows that the attributes Open, High, Low, Close and Weighted Price are highly correlated, but since the number of columns are not many, we would not drop the colums and try to use all columns in the model"
   ]
  },
  {
   "cell_type": "code",
   "execution_count": 12,
   "id": "e456b56e",
   "metadata": {},
   "outputs": [
    {
     "data": {
      "text/plain": [
       "<AxesSubplot:xlabel='Date'>"
      ]
     },
     "execution_count": 12,
     "metadata": {},
     "output_type": "execute_result"
    },
    {
     "data": {
      "text/plain": [
       "<Figure size 2160x1440 with 0 Axes>"
      ]
     },
     "metadata": {},
     "output_type": "display_data"
    },
    {
     "data": {
      "image/png": "[encoded data removed]",
      "text/plain": [
       "<Figure size 432x288 with 1 Axes>"
      ]
     },
     "metadata": {
      "needs_background": "light"
     },
     "output_type": "display_data"
    },
    {
     "data": {
      "image/png": "[encoded data removed]",
      "text/plain": [
       "<Figure size 432x288 with 1 Axes>"
      ]
     },
     "metadata": {
      "needs_background": "light"
     },
     "output_type": "display_data"
    }
   ],
   "source": [
    "import matplotlib.pyplot as plt\n",
    "fig = plt.figure(figsize=(30,20))\n",
    "  \n",
    "data.plot(x='Date', y=['Open','Volume_(Currency)', 'Volume_(BTC)'])\n",
    "data.plot(x='Date', y='Volume_(BTC)')"
   ]
  },
  {
   "cell_type": "markdown",
   "id": "83ead393",
   "metadata": {},
   "source": [
    "\n",
    " Corr Matrix shows that the attributes Open, High, Low, Close and Weighted Price are highly correlated, but since the number of columns are not many, we would not drop the colums and try to use all columns in the model"
   ]
  },
  {
   "cell_type": "code",
   "execution_count": 13,
   "id": "24d3a577",
   "metadata": {},
   "outputs": [],
   "source": [
    "# data = data[['Date', 'Close', 'Volume_(BTC)', 'Volume_(Currency)']]"
   ]
  },
  {
   "cell_type": "code",
   "execution_count": 14,
   "id": "4c218328",
   "metadata": {},
   "outputs": [],
   "source": [
    "data = data.sort_values(by ='Date')"
   ]
  },
  {
   "cell_type": "code",
   "execution_count": 15,
   "id": "c1984291",
   "metadata": {},
   "outputs": [
    {
     "data": {
      "text/html": [
       "<div>\n",
       "<style scoped>\n",
       "    .dataframe tbody tr th:only-of-type {\n",
       "        vertical-align: middle;\n",
       "    }\n",
       "\n",
       "    .dataframe tbody tr th {\n",
       "        vertical-align: top;\n",
       "    }\n",
       "\n",
       "    .dataframe thead th {\n",
       "        text-align: right;\n",
       "    }\n",
       "</style>\n",
       "<table border=\"1\" class=\"dataframe\">\n",
       "  <thead>\n",
       "    <tr style=\"text-align: right;\">\n",
       "      <th></th>\n",
       "      <th>Date</th>\n",
       "      <th>Open</th>\n",
       "      <th>High</th>\n",
       "      <th>Low</th>\n",
       "      <th>Close</th>\n",
       "      <th>Volume_(BTC)</th>\n",
       "      <th>Volume_(Currency)</th>\n",
       "      <th>Weighted_Price</th>\n",
       "    </tr>\n",
       "  </thead>\n",
       "  <tbody>\n",
       "    <tr>\n",
       "      <th>0</th>\n",
       "      <td>2011-12-31</td>\n",
       "      <td>4.465000</td>\n",
       "      <td>4.482500</td>\n",
       "      <td>4.465000</td>\n",
       "      <td>4.482500</td>\n",
       "      <td>23.829470</td>\n",
       "      <td>106.330084</td>\n",
       "      <td>4.471603</td>\n",
       "    </tr>\n",
       "    <tr>\n",
       "      <th>1</th>\n",
       "      <td>2012-01-01</td>\n",
       "      <td>4.806667</td>\n",
       "      <td>4.806667</td>\n",
       "      <td>4.806667</td>\n",
       "      <td>4.806667</td>\n",
       "      <td>7.200667</td>\n",
       "      <td>35.259720</td>\n",
       "      <td>4.806667</td>\n",
       "    </tr>\n",
       "    <tr>\n",
       "      <th>2</th>\n",
       "      <td>2012-01-02</td>\n",
       "      <td>5.000000</td>\n",
       "      <td>5.000000</td>\n",
       "      <td>5.000000</td>\n",
       "      <td>5.000000</td>\n",
       "      <td>19.048000</td>\n",
       "      <td>95.240000</td>\n",
       "      <td>5.000000</td>\n",
       "    </tr>\n",
       "    <tr>\n",
       "      <th>3</th>\n",
       "      <td>2012-01-03</td>\n",
       "      <td>5.252500</td>\n",
       "      <td>5.252500</td>\n",
       "      <td>5.252500</td>\n",
       "      <td>5.252500</td>\n",
       "      <td>11.004660</td>\n",
       "      <td>58.100651</td>\n",
       "      <td>5.252500</td>\n",
       "    </tr>\n",
       "    <tr>\n",
       "      <th>4</th>\n",
       "      <td>2012-01-04</td>\n",
       "      <td>5.200000</td>\n",
       "      <td>5.223333</td>\n",
       "      <td>5.200000</td>\n",
       "      <td>5.223333</td>\n",
       "      <td>11.914807</td>\n",
       "      <td>63.119577</td>\n",
       "      <td>5.208159</td>\n",
       "    </tr>\n",
       "  </tbody>\n",
       "</table>\n",
       "</div>"
      ],
      "text/plain": [
       "         Date      Open      High       Low     Close  Volume_(BTC)  \\\n",
       "0  2011-12-31  4.465000  4.482500  4.465000  4.482500     23.829470   \n",
       "1  2012-01-01  4.806667  4.806667  4.806667  4.806667      7.200667   \n",
       "2  2012-01-02  5.000000  5.000000  5.000000  5.000000     19.048000   \n",
       "3  2012-01-03  5.252500  5.252500  5.252500  5.252500     11.004660   \n",
       "4  2012-01-04  5.200000  5.223333  5.200000  5.223333     11.914807   \n",
       "\n",
       "   Volume_(Currency)  Weighted_Price  \n",
       "0         106.330084        4.471603  \n",
       "1          35.259720        4.806667  \n",
       "2          95.240000        5.000000  \n",
       "3          58.100651        5.252500  \n",
       "4          63.119577        5.208159  "
      ]
     },
     "execution_count": 15,
     "metadata": {},
     "output_type": "execute_result"
    }
   ],
   "source": [
    "data.head()"
   ]
  },
  {
   "cell_type": "code",
   "execution_count": 16,
   "id": "8ada55f3",
   "metadata": {},
   "outputs": [],
   "source": [
    "data.drop('Date', axis=1,inplace=True)\n"
   ]
  },
  {
   "cell_type": "markdown",
   "id": "26a23225",
   "metadata": {},
   "source": [
    "Nomalizing the data"
   ]
  },
  {
   "cell_type": "code",
   "execution_count": 17,
   "id": "b4543d96",
   "metadata": {},
   "outputs": [],
   "source": [
    "scaler = MinMaxScaler()\n",
    "scaled_data = scaler.fit_transform(data)\n",
    "\n",
    "# pickle.dump(scaler, open(\"scaler.pkl\", 'wb'))\n"
   ]
  },
  {
   "cell_type": "code",
   "execution_count": 18,
   "id": "517b7cd8",
   "metadata": {},
   "outputs": [
    {
     "data": {
      "text/plain": [
       "(2504, 7)"
      ]
     },
     "execution_count": 18,
     "metadata": {},
     "output_type": "execute_result"
    }
   ],
   "source": [
    "scaled_data.shape"
   ]
  },
  {
   "cell_type": "code",
   "execution_count": 19,
   "id": "ca5bec48",
   "metadata": {},
   "outputs": [
    {
     "data": {
      "text/plain": [
       "array([[6.94971486e-06, 7.85580963e-06, 6.95784156e-06, 7.86163155e-06,\n",
       "        1.97693490e-01, 1.94649221e-04, 7.29524503e-06],\n",
       "       [2.47583592e-05, 2.47392900e-05, 2.47873106e-05, 2.47576242e-05,\n",
       "        5.82753379e-02, 6.30274236e-05, 2.47630077e-05],\n",
       "       [3.48354457e-05, 3.48086151e-05, 3.48761808e-05, 3.48344116e-05,\n",
       "        1.57604997e-01, 1.74110465e-04, 3.48419862e-05],\n",
       "       [4.79964682e-05, 4.79595008e-05, 4.80525933e-05, 4.79950434e-05,\n",
       "        9.01685381e-02, 1.05328662e-04, 4.80054798e-05],\n",
       "       [4.52600180e-05, 4.64404216e-05, 4.53129431e-05, 4.64748384e-05,\n",
       "        9.77993312e-02, 1.14623677e-04, 4.56938824e-05]])"
      ]
     },
     "execution_count": 19,
     "metadata": {},
     "output_type": "execute_result"
    }
   ],
   "source": [
    "scaled_data[:5]"
   ]
  },
  {
   "cell_type": "markdown",
   "id": "5bd9961e",
   "metadata": {},
   "source": [
    "Train Test Split"
   ]
  },
  {
   "cell_type": "code",
   "execution_count": 20,
   "id": "59c3af2d",
   "metadata": {},
   "outputs": [],
   "source": [
    "split_ratio = 0.95\n",
    "train = scaled_data[:int(len(scaled_data)*split_ratio)]\n",
    "test = scaled_data[int(len(scaled_data)*split_ratio): ]\n"
   ]
  },
  {
   "cell_type": "code",
   "execution_count": 21,
   "id": "d17eefc2",
   "metadata": {},
   "outputs": [
    {
     "data": {
      "text/plain": [
       "((2378, 7), (126, 7))"
      ]
     },
     "execution_count": 21,
     "metadata": {},
     "output_type": "execute_result"
    }
   ],
   "source": [
    "train.shape, test.shape"
   ]
  },
  {
   "cell_type": "markdown",
   "id": "5aae721f",
   "metadata": {},
   "source": [
    "Creating data in the form of (samples_size, timestep, features) where timestep is taken as 10.\n",
    "Therefore, using the samples for 10 previous days, the Closing price of 11th day will be predicted"
   ]
  },
  {
   "cell_type": "code",
   "execution_count": 22,
   "id": "efdd6870",
   "metadata": {},
   "outputs": [],
   "source": [
    "timestep = 10\n",
    "train_x = []\n",
    "train_y = []\n",
    "\n",
    "for i in range(0, len(train)-timestep):\n",
    "    train_x.append(train[i:i+timestep])\n",
    "    train_y.append(train[i+timestep:i+ timestep+1]) # 3 because Close is the third column\n",
    "\n",
    "\n",
    "test_x = []\n",
    "test_y = []\n",
    "\n",
    "for i in range(0, len(test)-timestep):\n",
    "    test_x.append(test[i:i+timestep])\n",
    "    test_y.append(test[i+timestep:i+timestep+1]) # 3 because Close is the third column"
   ]
  },
  {
   "cell_type": "code",
   "execution_count": 23,
   "id": "45681d10",
   "metadata": {},
   "outputs": [
    {
     "name": "stdout",
     "output_type": "stream",
     "text": [
      "(2368, 10, 7) (2368, 7) (116, 10, 7) (116, 7)\n"
     ]
    }
   ],
   "source": [
    "import numpy as np\n",
    "train_x = np.reshape(train_x, [-1, timestep, train.shape[1]])\n",
    "train_y = np.reshape(train_y, [-1, train.shape[1]])\n",
    "\n",
    "test_x = np.reshape(test_x, [-1, timestep, test.shape[1]])\n",
    "test_y = np.reshape(test_y, [-1, test.shape[1]])\n",
    "\n",
    "print(train_x.shape, train_y.shape, test_x.shape, test_y.shape)"
   ]
  },
  {
   "cell_type": "markdown",
   "id": "3c21c6f0",
   "metadata": {},
   "source": [
    "Model building and training"
   ]
  },
  {
   "cell_type": "code",
   "execution_count": 24,
   "id": "c6b3e04f",
   "metadata": {},
   "outputs": [
    {
     "name": "stdout",
     "output_type": "stream",
     "text": [
      "Epoch 1/50\n",
      "237/237 [==============================] - 2s 2ms/step - loss: 0.0030\n",
      "Epoch 2/50\n",
      "237/237 [==============================] - 1s 2ms/step - loss: 0.0014\n",
      "Epoch 3/50\n",
      "237/237 [==============================] - 1s 2ms/step - loss: 0.0013\n",
      "Epoch 4/50\n",
      "237/237 [==============================] - 1s 2ms/step - loss: 0.0011\n",
      "Epoch 5/50\n",
      "237/237 [==============================] - 1s 2ms/step - loss: 0.0011\n",
      "Epoch 6/50\n",
      "237/237 [==============================] - 1s 2ms/step - loss: 0.0011\n",
      "Epoch 7/50\n",
      "237/237 [==============================] - 1s 2ms/step - loss: 9.9844e-04\n",
      "Epoch 8/50\n",
      "237/237 [==============================] - 1s 2ms/step - loss: 0.0010\n",
      "Epoch 9/50\n",
      "237/237 [==============================] - 1s 2ms/step - loss: 0.0010\n",
      "Epoch 10/50\n",
      "237/237 [==============================] - 1s 2ms/step - loss: 9.5760e-04\n",
      "Epoch 11/50\n",
      "237/237 [==============================] - 1s 2ms/step - loss: 9.4234e-04\n",
      "Epoch 12/50\n",
      "237/237 [==============================] - 1s 2ms/step - loss: 9.4617e-04\n",
      "Epoch 13/50\n",
      "237/237 [==============================] - 1s 2ms/step - loss: 9.2056e-04\n",
      "Epoch 14/50\n",
      "237/237 [==============================] - 1s 2ms/step - loss: 8.8589e-04\n",
      "Epoch 15/50\n",
      "237/237 [==============================] - 1s 2ms/step - loss: 9.2760e-04\n",
      "Epoch 16/50\n",
      "237/237 [==============================] - 1s 2ms/step - loss: 8.6399e-04\n",
      "Epoch 17/50\n",
      "237/237 [==============================] - 1s 2ms/step - loss: 8.9348e-04\n",
      "Epoch 18/50\n",
      "237/237 [==============================] - 1s 2ms/step - loss: 9.0485e-04\n",
      "Epoch 19/50\n",
      "237/237 [==============================] - 1s 2ms/step - loss: 8.9751e-04\n",
      "Epoch 20/50\n",
      "237/237 [==============================] - 1s 2ms/step - loss: 8.7814e-04\n",
      "Epoch 21/50\n",
      "237/237 [==============================] - 1s 2ms/step - loss: 8.9620e-04\n",
      "Epoch 22/50\n",
      "237/237 [==============================] - 1s 2ms/step - loss: 8.8524e-04\n",
      "Epoch 23/50\n",
      "237/237 [==============================] - 1s 2ms/step - loss: 8.7674e-04\n",
      "Epoch 24/50\n",
      "237/237 [==============================] - 1s 2ms/step - loss: 8.7330e-04\n",
      "Epoch 25/50\n",
      "237/237 [==============================] - 1s 2ms/step - loss: 8.7877e-04\n",
      "Epoch 26/50\n",
      "237/237 [==============================] - 0s 2ms/step - loss: 8.4699e-04\n",
      "Epoch 27/50\n",
      "237/237 [==============================] - 0s 2ms/step - loss: 8.2944e-04\n",
      "Epoch 28/50\n",
      "237/237 [==============================] - 1s 2ms/step - loss: 8.6535e-04\n",
      "Epoch 29/50\n",
      "237/237 [==============================] - 1s 2ms/step - loss: 8.2475e-04\n",
      "Epoch 30/50\n",
      "237/237 [==============================] - 1s 2ms/step - loss: 8.5644e-04\n",
      "Epoch 31/50\n",
      "237/237 [==============================] - 1s 2ms/step - loss: 8.3787e-04\n",
      "Epoch 32/50\n",
      "237/237 [==============================] - 1s 2ms/step - loss: 8.3455e-04\n",
      "Epoch 33/50\n",
      "237/237 [==============================] - 1s 2ms/step - loss: 8.5533e-04\n",
      "Epoch 34/50\n",
      "237/237 [==============================] - 1s 2ms/step - loss: 8.3997e-04\n",
      "Epoch 35/50\n",
      "237/237 [==============================] - 1s 2ms/step - loss: 8.4131e-04\n",
      "Epoch 36/50\n",
      "237/237 [==============================] - 1s 2ms/step - loss: 8.2539e-04\n",
      "Epoch 37/50\n",
      "237/237 [==============================] - 1s 2ms/step - loss: 8.4538e-04\n",
      "Epoch 38/50\n",
      "237/237 [==============================] - 1s 2ms/step - loss: 8.2806e-04\n",
      "Epoch 39/50\n",
      "237/237 [==============================] - 1s 2ms/step - loss: 8.2936e-04\n",
      "Epoch 40/50\n",
      "237/237 [==============================] - 1s 2ms/step - loss: 8.3809e-04\n",
      "Epoch 41/50\n",
      "237/237 [==============================] - 1s 2ms/step - loss: 8.0971e-04\n",
      "Epoch 42/50\n",
      "237/237 [==============================] - 1s 2ms/step - loss: 8.0675e-04\n",
      "Epoch 43/50\n",
      "237/237 [==============================] - 1s 2ms/step - loss: 8.1334e-04\n",
      "Epoch 44/50\n",
      "237/237 [==============================] - 1s 2ms/step - loss: 8.1992e-04\n",
      "Epoch 45/50\n",
      "237/237 [==============================] - 1s 2ms/step - loss: 8.2598e-04\n",
      "Epoch 46/50\n",
      "237/237 [==============================] - 1s 2ms/step - loss: 8.0582e-04\n",
      "Epoch 47/50\n",
      "237/237 [==============================] - 1s 2ms/step - loss: 8.4497e-04\n",
      "Epoch 48/50\n",
      "237/237 [==============================] - 1s 2ms/step - loss: 8.1383e-04\n",
      "Epoch 49/50\n",
      "237/237 [==============================] - 1s 2ms/step - loss: 8.0456e-04\n",
      "Epoch 50/50\n",
      "237/237 [==============================] - 1s 2ms/step - loss: 8.0204e-04\n"
     ]
    },
    {
     "data": {
      "image/png": "[encoded data removed]",
      "text/plain": [
       "<Figure size 432x288 with 1 Axes>"
      ]
     },
     "metadata": {
      "needs_background": "light"
     },
     "output_type": "display_data"
    }
   ],
   "source": [
    "\n",
    "from matplotlib import pyplot\n",
    "from keras.models import Sequential\n",
    "from keras.layers import Dense\n",
    "from keras.layers import LSTM\n",
    "from keras.layers import Dropout\n",
    "\n",
    "\n",
    "# model\n",
    "model = Sequential()\n",
    "model.add(LSTM(50, input_shape = (train_x.shape[1], train_x.shape[2]))) \n",
    "model.add(Dropout(0.1))\n",
    "model.add(Dense(train_y.shape[1]))\n",
    "model.compile(loss= \"mean_squared_error\", optimizer = \"adam\")\n",
    "history = model.fit(train_x, train_y, epochs=50, batch_size=10)\n",
    "\n",
    "# plot history\n",
    "pyplot.plot(history.history['loss'], label='train')\n",
    "\n",
    "pyplot.legend()\n",
    "pyplot.show()"
   ]
  },
  {
   "cell_type": "markdown",
   "id": "aeef487e",
   "metadata": {},
   "source": [
    "Model Evaluation"
   ]
  },
  {
   "cell_type": "code",
   "execution_count": 25,
   "id": "99338e0d",
   "metadata": {},
   "outputs": [
    {
     "name": "stdout",
     "output_type": "stream",
     "text": [
      "4/4 [==============================] - 0s 5ms/step - loss: 2.4880e-04\n"
     ]
    },
    {
     "data": {
      "text/plain": [
       "0.000248803204158321"
      ]
     },
     "execution_count": 25,
     "metadata": {},
     "output_type": "execute_result"
    }
   ],
   "source": [
    "model.evaluate(test_x, test_y)"
   ]
  },
  {
   "cell_type": "markdown",
   "id": "6a3147bc",
   "metadata": {},
   "source": []
  },
  {
   "cell_type": "markdown",
   "id": "3b6c2885",
   "metadata": {},
   "source": [
    "Plotting of prediction from test data and actual data"
   ]
  },
  {
   "cell_type": "code",
   "execution_count": 26,
   "id": "169a339d",
   "metadata": {},
   "outputs": [
    {
     "data": {
      "text/plain": [
       "<matplotlib.legend.Legend at 0x20b15bdd280>"
      ]
     },
     "execution_count": 26,
     "metadata": {},
     "output_type": "execute_result"
    },
    {
     "data": {
      "image/png": "[encoded data removed]",
      "text/plain": [
       "<Figure size 432x288 with 1 Axes>"
      ]
     },
     "metadata": {
      "needs_background": "light"
     },
     "output_type": "display_data"
    }
   ],
   "source": [
    "test_prediction = model.predict(test_x)\n",
    "\n",
    "plt.plot(test_prediction,label='prediction')\n",
    "plt.plot(test_y, label='actual')\n",
    "plt.legend()"
   ]
  },
  {
   "cell_type": "code",
   "execution_count": 27,
   "id": "0f40c8fe",
   "metadata": {},
   "outputs": [
    {
     "data": {
      "text/plain": [
       "116"
      ]
     },
     "execution_count": 27,
     "metadata": {},
     "output_type": "execute_result"
    }
   ],
   "source": [
    "len(test_x)"
   ]
  },
  {
   "cell_type": "code",
   "execution_count": 55,
   "id": "92d7fd0c",
   "metadata": {},
   "outputs": [
    {
     "data": {
      "text/plain": [
       "(1, 10, 7)"
      ]
     },
     "execution_count": 55,
     "metadata": {},
     "output_type": "execute_result"
    }
   ],
   "source": [
    "x_input = test_x[115:]\n",
    "x_input.shape\n"
   ]
  },
  {
   "cell_type": "code",
   "execution_count": 56,
   "id": "7c5d3449",
   "metadata": {},
   "outputs": [
    {
     "data": {
      "text/plain": [
       "((10, 7), (1, 10, 7))"
      ]
     },
     "execution_count": 56,
     "metadata": {},
     "output_type": "execute_result"
    }
   ],
   "source": [
    "temp_input = x_input\n",
    "temp_input = x_input[0]\n",
    "\n",
    "temp_input.shape,x_input.shape"
   ]
  },
  {
   "cell_type": "code",
   "execution_count": 59,
   "id": "e47ea09e",
   "metadata": {},
   "outputs": [
    {
     "name": "stdout",
     "output_type": "stream",
     "text": [
      "(1, 7)\n",
      "Opening and CLosing Price for day 1 are [0.33178872], [0.33357978]\n",
      "(1, 7)\n",
      "Opening and CLosing Price for day 2 are [0.3335312], [0.33533382]\n",
      "(1, 7)\n",
      "Opening and CLosing Price for day 3 are [0.33605674], [0.3378441]\n",
      "(1, 7)\n",
      "Opening and CLosing Price for day 4 are [0.3391594], [0.34091976]\n",
      "(1, 7)\n",
      "Opening and CLosing Price for day 5 are [0.34268987], [0.34442222]\n",
      "(1, 7)\n",
      "Opening and CLosing Price for day 6 are [0.3465284], [0.34823674]\n",
      "(1, 7)\n",
      "Opening and CLosing Price for day 7 are [0.35059068], [0.35227972]\n",
      "(1, 7)\n",
      "Opening and CLosing Price for day 8 are [0.35481536], [0.35649213]\n",
      "(1, 7)\n",
      "Opening and CLosing Price for day 9 are [0.35915545], [0.360826]\n",
      "(1, 7)\n",
      "Opening and CLosing Price for day 10 are [0.3635664], [0.36523306]\n",
      "(1, 7)\n",
      "Opening and CLosing Price for day 11 are [0.3680208], [0.3696861]\n",
      "(1, 7)\n",
      "Opening and CLosing Price for day 12 are [0.37249705], [0.37416315]\n",
      "(1, 7)\n",
      "Opening and CLosing Price for day 13 are [0.376979], [0.37864757]\n",
      "(1, 7)\n",
      "Opening and CLosing Price for day 14 are [0.3814541], [0.38312662]\n",
      "(1, 7)\n",
      "Opening and CLosing Price for day 15 are [0.385913], [0.38759047]\n",
      "(1, 7)\n",
      "Opening and CLosing Price for day 16 are [0.39034817], [0.39203134]\n",
      "(1, 7)\n",
      "Opening and CLosing Price for day 17 are [0.39475355], [0.39644304]\n",
      "(1, 7)\n",
      "Opening and CLosing Price for day 18 are [0.3991242], [0.4008203]\n",
      "(1, 7)\n",
      "Opening and CLosing Price for day 19 are [0.40345585], [0.40515897]\n",
      "(1, 7)\n",
      "Opening and CLosing Price for day 20 are [0.40774488], [0.40945527]\n",
      "(1, 7)\n",
      "Opening and CLosing Price for day 21 are [0.4119883], [0.41370595]\n",
      "(1, 7)\n",
      "Opening and CLosing Price for day 22 are [0.4161833], [0.41790837]\n",
      "(1, 7)\n",
      "Opening and CLosing Price for day 23 are [0.42032754], [0.42206]\n",
      "(1, 7)\n",
      "Opening and CLosing Price for day 24 are [0.4244189], [0.4261588]\n",
      "(1, 7)\n",
      "Opening and CLosing Price for day 25 are [0.42845553], [0.43020287]\n",
      "(1, 7)\n",
      "Opening and CLosing Price for day 26 are [0.43243575], [0.43419045]\n",
      "(1, 7)\n",
      "Opening and CLosing Price for day 27 are [0.43635806], [0.4381201]\n",
      "(1, 7)\n",
      "Opening and CLosing Price for day 28 are [0.44022116], [0.44199046]\n",
      "(1, 7)\n",
      "Opening and CLosing Price for day 29 are [0.444024], [0.44580042]\n",
      "(1, 7)\n",
      "Opening and CLosing Price for day 30 are [0.4477654], [0.449549]\n"
     ]
    }
   ],
   "source": [
    "# demonstrate prediction for next 10 days\n",
    "from numpy import array\n",
    "\n",
    "lst_output=[]\n",
    "n_steps=10\n",
    "i=0\n",
    "while(i<30):\n",
    "\n",
    "        x_input = x_input.reshape((-1, 10,7))\n",
    "        yhat = model.predict(x_input, verbose=0) # 1,7\n",
    "        temp_input = np.append(temp_input, yhat, axis=0)  # 11,7\n",
    "        temp_input = temp_input[1:]          # 10,7\n",
    "\n",
    "        x_input = temp_input\n",
    "        \n",
    "        lst_output.extend(yhat)\n",
    "        i=i+1\n",
    "        \n",
    "        print(\"Opening and CLosing Price for day {} are {}, {}\".format(i, yhat[:, 0], yhat[:, 3]))\n",
    "    \n",
    "\n",
    "# print(lst_output)"
   ]
  },
  {
   "cell_type": "code",
   "execution_count": 60,
   "id": "4523acbe",
   "metadata": {},
   "outputs": [],
   "source": [
    "day_new=np.arange(1,10)\n",
    "day_pred=np.arange(10,40)"
   ]
  },
  {
   "cell_type": "code",
   "execution_count": 66,
   "id": "0ffcaeb7",
   "metadata": {},
   "outputs": [
    {
     "name": "stdout",
     "output_type": "stream",
     "text": [
      "(30, 7)\n"
     ]
    }
   ],
   "source": [
    "lst_output = np.array(lst_output)\n",
    "print(lst_output.shape)"
   ]
  },
  {
   "cell_type": "code",
   "execution_count": 65,
   "id": "ca3a5e7c",
   "metadata": {},
   "outputs": [
    {
     "data": {
      "text/plain": [
       "85"
      ]
     },
     "execution_count": 65,
     "metadata": {},
     "output_type": "execute_result"
    }
   ],
   "source": [
    "115-30"
   ]
  },
  {
   "cell_type": "code",
   "execution_count": 71,
   "id": "25339b6d",
   "metadata": {},
   "outputs": [
    {
     "data": {
      "text/plain": [
       "array([0.33099394, 0.3307897 , 0.33132606, 0.33099069, 0.00870054,\n",
       "       0.01514737, 0.33105603])"
      ]
     },
     "execution_count": 71,
     "metadata": {},
     "output_type": "execute_result"
    }
   ],
   "source": [
    "test_y[115]"
   ]
  },
  {
   "cell_type": "code",
   "execution_count": 72,
   "id": "a8c00abb",
   "metadata": {},
   "outputs": [
    {
     "data": {
      "text/plain": [
       "array([0.33178872, 0.3328654 , 0.3329242 , 0.33357978, 0.0359708 ,\n",
       "       0.07073057, 0.33221334], dtype=float32)"
      ]
     },
     "execution_count": 72,
     "metadata": {},
     "output_type": "execute_result"
    }
   ],
   "source": [
    "lst_output[0]"
   ]
  },
  {
   "cell_type": "code",
   "execution_count": 88,
   "id": "192e3ad6",
   "metadata": {},
   "outputs": [
    {
     "name": "stdout",
     "output_type": "stream",
     "text": [
      "(115,) (30,)\n",
      "(30,) (115,)\n"
     ]
    }
   ],
   "source": [
    "day_new=np.arange(1,116)\n",
    "day_pred=np.arange(116,146)\n"
   ]
  },
  {
   "cell_type": "code",
   "execution_count": 92,
   "id": "b90b6534",
   "metadata": {},
   "outputs": [
    {
     "data": {
      "text/plain": [
       "[<matplotlib.lines.Line2D at 0x20b02aaa0d0>]"
      ]
     },
     "execution_count": 92,
     "metadata": {},
     "output_type": "execute_result"
    },
    {
     "data": {
      "image/png": "[encoded data removed]",
      "text/plain": [
       "<Figure size 432x288 with 1 Axes>"
      ]
     },
     "metadata": {
      "needs_background": "light"
     },
     "output_type": "display_data"
    }
   ],
   "source": [
    "\n",
    "plt.plot(day_pred, lst_output[:30,6])\n",
    "plt.plot(day_new, test_y[:115,6])"
   ]
  },
  {
   "cell_type": "code",
   "execution_count": null,
   "id": "0caf5140",
   "metadata": {},
   "outputs": [],
   "source": []
  }
 ],
 "metadata": {
  "kernelspec": {
   "display_name": "Python 3 (ipykernel)",
   "language": "python",
   "name": "python3"
  },
  "language_info": {
   "codemirror_mode": {
    "name": "ipython",
    "version": 3
   },
   "file_extension": ".py",
   "mimetype": "text/x-python",
   "name": "python",
   "nbconvert_exporter": "python",
   "pygments_lexer": "ipython3",
   "version": "3.9.6"
  }
 },
 "nbformat": 4,
 "nbformat_minor": 5
}
